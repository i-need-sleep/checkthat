{
 "cells": [
  {
   "cell_type": "code",
   "execution_count": 2,
   "metadata": {},
   "outputs": [],
   "source": [
    "from PIL import Image\n",
    "import jsonlines\n",
    "import json"
   ]
  },
  {
   "cell_type": "code",
   "execution_count": 6,
   "metadata": {},
   "outputs": [
    {
     "name": "stdout",
     "output_type": "stream",
     "text": [
      "Size: 525\n",
      "Positive: 180 (0.34285714285714286)\n",
      "Positive: 212 (0.4038095238095238)\n"
     ]
    }
   ],
   "source": [
    "# The provided dataset:\n",
    "# Split size, label distribution, OCR\n",
    "\n",
    "def count_dataset(path):\n",
    "    data = []\n",
    "\n",
    "    with jsonlines.open(path) as f:\n",
    "        for obj in f:\n",
    "            data.append(obj)\n",
    "\n",
    "    print(f'Size: {len(data)}')\n",
    "    \n",
    "    n_positive, n_ocr = 0, 0\n",
    "    for line in data:\n",
    "        if line['class_label'] == 'Yes':\n",
    "            n_positive += 1\n",
    "        if len(line['ocr_text']) > 0:\n",
    "            n_ocr += 1\n",
    "\n",
    "    print(f'Positive: {n_positive} ({n_positive/len(data)})')\n",
    "    print(f'Positive: {n_ocr} ({n_ocr/len(data)})')\n",
    "\n",
    "    return\n",
    "\n",
    "# count_dataset('../data/labeled/CT23_1A_checkworthy_multimodal_english_train.jsonl')\n",
    "# count_dataset('../data/labeled/CT23_1A_checkworthy_multimodal_english_dev.jsonl')\n",
    "count_dataset('../data/labeled/CT23_1A_checkworthy_multimodal_english_dev_test.jsonl')"
   ]
  },
  {
   "cell_type": "code",
   "execution_count": 13,
   "metadata": {},
   "outputs": [
    {
     "name": "stdout",
     "output_type": "stream",
     "text": [
      "['n_likes', 'n_retweets', 'author_name', 'bio', 'n_followers', 'verified', 'n_listed']\n",
      "[0.8870496592015482, 0.8870496592015482, 0.8825056799740247, 0.8825056799740247, 0.8825056799740247, 0.8825056799740247, 0.8825056799740247]\n",
      "#all filled: 0.8825056799740344\n",
      "#all not filled: 0.11295034079844206\n"
     ]
    }
   ],
   "source": [
    "# Metadata: %Missing fields\n",
    "def count_metadata():\n",
    "    paths = [\n",
    "        '../data/retrieved/train.json',\n",
    "        '../data/retrieved/dev.json',\n",
    "        '../data/retrieved/dev_test.json'\n",
    "    ]\n",
    "\n",
    "    data = {}\n",
    "    \n",
    "    for path in paths:\n",
    "        with open(path, 'r') as f:\n",
    "            file_data = json.load(f)\n",
    "        for key, val in file_data.items():\n",
    "            data[key] = val\n",
    "        \n",
    "    fields = ['n_likes', 'n_retweets', 'author_name', 'bio', 'n_followers', 'verified', 'n_listed']\n",
    "    filled = [0 for _ in fields]\n",
    "    n_all_filled, n_all_not_filled = 0, 0\n",
    "\n",
    "    for key, line in data.items():\n",
    "        all_filled = True\n",
    "        not_filled = True\n",
    "        for field_idx, field in enumerate(fields):\n",
    "            if field in line.keys() and line[field] != None:\n",
    "                filled[field_idx] += 1 / len(data)\n",
    "                not_filled = False\n",
    "            else:\n",
    "                all_filled = False\n",
    "        if all_filled:\n",
    "            n_all_filled += 1\n",
    "        if not_filled:\n",
    "            n_all_not_filled += 1\n",
    "\n",
    "    \n",
    "    print(fields)\n",
    "    print(filled)\n",
    "    print(f'#all filled: {n_all_filled/len(data)}')\n",
    "    print(f'#all not filled: {n_all_not_filled/len(data)}')\n",
    "    return\n",
    "\n",
    "count_metadata()"
   ]
  },
  {
   "cell_type": "code",
   "execution_count": null,
   "metadata": {},
   "outputs": [],
   "source": []
  }
 ],
 "metadata": {
  "kernelspec": {
   "display_name": "base",
   "language": "python",
   "name": "python3"
  },
  "language_info": {
   "codemirror_mode": {
    "name": "ipython",
    "version": 3
   },
   "file_extension": ".py",
   "mimetype": "text/x-python",
   "name": "python",
   "nbconvert_exporter": "python",
   "pygments_lexer": "ipython3",
   "version": "3.8.8"
  },
  "orig_nbformat": 4,
  "vscode": {
   "interpreter": {
    "hash": "b5efcd3efc71ef29576cdfc4a5c5091a22a4d39f277c681ebc64abd29d3aec9c"
   }
  }
 },
 "nbformat": 4,
 "nbformat_minor": 2
}
